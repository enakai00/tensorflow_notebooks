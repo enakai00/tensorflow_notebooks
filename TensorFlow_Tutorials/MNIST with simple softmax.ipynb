{
 "cells": [
  {
   "cell_type": "markdown",
   "metadata": {},
   "source": [
    "# 線形多項分類器によるMNISTデータの分類"
   ]
  },
  {
   "cell_type": "markdown",
   "metadata": {},
   "source": [
    "線形多項分類器とSoftmax関数を用いて、MNISTの手書き数字画像の分類を行います。\n",
    "\n",
    "理論的な背景については、下記のBlog記事を参照してください。\n",
    "\n",
    "・[TensorFlow Tutorialの数学的背景 − MNIST For ML Beginners（その2）](http://enakai00.hatenablog.com/entry/2016/02/14/175505)"
   ]
  },
  {
   "cell_type": "markdown",
   "metadata": {},
   "source": [
    "### モジュールのインポート"
   ]
  },
  {
   "cell_type": "markdown",
   "metadata": {},
   "source": [
    "はじめに、必要なモジュールをインポートしておきます。"
   ]
  },
  {
   "cell_type": "code",
   "execution_count": 1,
   "metadata": {
    "collapsed": true
   },
   "outputs": [],
   "source": [
    "%matplotlib inline\n",
    "from __future__ import absolute_import\n",
    "from __future__ import division\n",
    "from __future__ import print_function\n",
    "import tensorflow as tf\n",
    "import numpy as np\n",
    "import matplotlib.pyplot as plt"
   ]
  },
  {
   "cell_type": "markdown",
   "metadata": {},
   "source": [
    "### データセットの用意"
   ]
  },
  {
   "cell_type": "markdown",
   "metadata": {},
   "source": [
    "TensorFlowには、MNISTのデータセットをダウンロードする関数が用意されていますので、これを利用します。"
   ]
  },
  {
   "cell_type": "code",
   "execution_count": 2,
   "metadata": {
    "collapsed": false
   },
   "outputs": [
    {
     "name": "stdout",
     "output_type": "stream",
     "text": [
      "Extracting /tmp/data/train-images-idx3-ubyte.gz\n",
      "Extracting /tmp/data/train-labels-idx1-ubyte.gz\n",
      "Extracting /tmp/data/t10k-images-idx3-ubyte.gz\n",
      "Extracting /tmp/data/t10k-labels-idx1-ubyte.gz\n"
     ]
    }
   ],
   "source": [
    "from tensorflow.examples.tutorials.mnist import input_data\n",
    "mnist = input_data.read_data_sets(\"/tmp/data/\", one_hot=True)"
   ]
  },
  {
   "cell_type": "markdown",
   "metadata": {},
   "source": [
    "これにより、以下のデータが利用可能になりました。\n",
    "\n",
    "* mnist.train.data：トレーニングセット（画像データ）\n",
    "* mnist.train.label：トレーニングセット（正解ラベル）\n",
    "* mnist.test.data：テストセット（画像データ）\n",
    "* mnist.test.label：テストセット（正解ラベル）\n",
    "\n",
    "次のように、next_batchメソッドで、指定数のトレーニングデータを取り出すことができます。"
   ]
  },
  {
   "cell_type": "code",
   "execution_count": 3,
   "metadata": {
    "collapsed": true
   },
   "outputs": [],
   "source": [
    "data, label = mnist.train.next_batch(15)"
   ]
  },
  {
   "cell_type": "markdown",
   "metadata": {},
   "source": [
    "正解ラベルは、${\\mathbf t}=(0,\\cdots,1,\\cdots,0)$ のように、正解を r として、r+1 番目の数字が 1 になっているベクトル形式で与えられます。\n",
    "\n",
    "先ほど取り出した15個のデータを確認すると、次のようになっています。"
   ]
  },
  {
   "cell_type": "code",
   "execution_count": 4,
   "metadata": {
    "collapsed": false
   },
   "outputs": [
    {
     "data": {
      "text/plain": [
       "array([[ 0.,  0.,  0.,  0.,  0.,  0.,  0.,  1.,  0.,  0.],\n",
       "       [ 0.,  0.,  0.,  1.,  0.,  0.,  0.,  0.,  0.,  0.],\n",
       "       [ 0.,  0.,  0.,  0.,  1.,  0.,  0.,  0.,  0.,  0.],\n",
       "       [ 0.,  0.,  0.,  0.,  0.,  0.,  1.,  0.,  0.,  0.],\n",
       "       [ 0.,  1.,  0.,  0.,  0.,  0.,  0.,  0.,  0.,  0.],\n",
       "       [ 0.,  0.,  0.,  0.,  0.,  0.,  0.,  0.,  1.,  0.],\n",
       "       [ 0.,  1.,  0.,  0.,  0.,  0.,  0.,  0.,  0.,  0.],\n",
       "       [ 1.,  0.,  0.,  0.,  0.,  0.,  0.,  0.,  0.,  0.],\n",
       "       [ 0.,  0.,  0.,  0.,  0.,  0.,  0.,  0.,  0.,  1.],\n",
       "       [ 0.,  0.,  0.,  0.,  0.,  0.,  0.,  0.,  1.,  0.],\n",
       "       [ 1.,  0.,  0.,  0.,  0.,  0.,  0.,  0.,  0.,  0.],\n",
       "       [ 0.,  0.,  0.,  1.,  0.,  0.,  0.,  0.,  0.,  0.],\n",
       "       [ 0.,  1.,  0.,  0.,  0.,  0.,  0.,  0.,  0.,  0.],\n",
       "       [ 0.,  0.,  1.,  0.,  0.,  0.,  0.,  0.,  0.,  0.],\n",
       "       [ 0.,  0.,  0.,  0.,  0.,  0.,  0.,  1.,  0.,  0.]])"
      ]
     },
     "execution_count": 4,
     "metadata": {},
     "output_type": "execute_result"
    }
   ],
   "source": [
    "label"
   ]
  },
  {
   "cell_type": "markdown",
   "metadata": {},
   "source": [
    "これは、argmax関数で正解の数字に変換することができます。"
   ]
  },
  {
   "cell_type": "code",
   "execution_count": 5,
   "metadata": {
    "collapsed": false
   },
   "outputs": [
    {
     "data": {
      "text/plain": [
       "array([7, 3, 4, 6, 1, 8, 1, 0, 9, 8, 0, 3, 1, 2, 7])"
      ]
     },
     "execution_count": 5,
     "metadata": {},
     "output_type": "execute_result"
    }
   ],
   "source": [
    "np.array([np.argmax(t) for t in label])"
   ]
  },
  {
   "cell_type": "markdown",
   "metadata": {},
   "source": [
    "一方、画像データの方は、28x28サイズの各ピクセルの濃度を数値化したものを一列にならべたベクトル ${\\mathbf x} = (x_0,\\cdots,x_m)$ （$m=783$）として与えられます。\n",
    "\n",
    "先ほどの正解ラベルとあわせて、画像化して表示すると、次のようになります。"
   ]
  },
  {
   "cell_type": "code",
   "execution_count": 6,
   "metadata": {
    "collapsed": false
   },
   "outputs": [
    {
     "data": {
      "image/png": "[encoded data removed]",
      "text/plain": [
       "<matplotlib.figure.Figure at 0x51f33d0>"
      ]
     },
     "metadata": {},
     "output_type": "display_data"
    }
   ],
   "source": [
    "fig = plt.figure()\n",
    "for i in range(15):\n",
    "    subplot = fig.add_subplot(3,5,i+1)\n",
    "    subplot.set_xticks([])\n",
    "    subplot.set_yticks([])\n",
    "    subplot.set_title('%d' % np.argmax(label[i]))\n",
    "    subplot.imshow(data[i].reshape(28,28), vmax=1, vmin=0,\n",
    "                   cmap=plt.cm.gray_r, interpolation='nearest')"
   ]
  },
  {
   "cell_type": "markdown",
   "metadata": {},
   "source": [
    "最初の「7」などは、いかにも判別が難しそうなことがわかります・・・。"
   ]
  },
  {
   "cell_type": "markdown",
   "metadata": {},
   "source": [
    "### 分類モデルの定義"
   ]
  },
  {
   "cell_type": "markdown",
   "metadata": {},
   "source": [
    "これらの画像を判別する「線形多項分類器」を定義していきます。\n",
    "\n",
    "それぞれの画像データは 28x28=784個の数値の並びとして表現されており、これは、784次元空間の1点とみなすことができます。そこで、この784次元空間を10個の領域に分割することで、それぞれの画像がどの数字に対応するかを判別します。"
   ]
  },
  {
   "cell_type": "markdown",
   "metadata": {},
   "source": [
    "まず、画像データ ${\\mathbf x}=(x_0,\\cdots,x_m)$ を入力とする10個の線形関数 $(f_0,\\cdots,f_9)$ を次式で定義します。\n",
    "\n",
    "　$(f_0,\\cdots,f_9) = (x_0,\\cdots,x_m)\n",
    "\\begin{pmatrix}\n",
    "w_{00} & w_{01} & \\cdots & w_{09} \\\\\n",
    "w_{10} & w_{11} & \\cdots & w_{19} \\\\\n",
    "\\vdots \\\\\n",
    "w_{m0} & w_{m1} & \\cdots & w_{m9}\\\\\n",
    "\\end{pmatrix}\n",
    "+ (b_0,\\cdots,b_9)$\n",
    "\n",
    "ここで、次の行列 $W$ と $b$ が、トレーニングで最適化するべきパラメーターとなります。\n",
    "\n",
    "　${\\mathbf W}=\n",
    "\\begin{pmatrix}\n",
    "w_{00} & w_{01} & \\cdots & w_{09} \\\\\n",
    "w_{10} & w_{11} & \\cdots & w_{19} \\\\\n",
    "\\vdots \\\\\n",
    "w_{m0} & w_{m1} & \\cdots & w_{m9}\\\\\n",
    "\\end{pmatrix}\n",
    ",\\,\\,\\,\\,\n",
    "{\\mathbf b}=(b_0,\\cdots,b_9)$"
   ]
  },
  {
   "cell_type": "markdown",
   "metadata": {},
   "source": [
    "これらをTensorFlowのコードで表現すると、次になります。トレーニングデータを入力する入れ物はplaceholderクラス、最適化するべきパラメーターはVariableクラスのインスタンスとして用意します。matmulは、行列の積を計算します。"
   ]
  },
  {
   "cell_type": "code",
   "execution_count": 7,
   "metadata": {
    "collapsed": true
   },
   "outputs": [],
   "source": [
    "x = tf.placeholder(tf.float32, [None, 784])\n",
    "W = tf.Variable(tf.zeros([784, 10]))\n",
    "b = tf.Variable(tf.zeros([1,10]))\n",
    "f = tf.matmul(x, W) + b"
   ]
  },
  {
   "cell_type": "markdown",
   "metadata": {},
   "source": [
    "$(f_0,\\cdots,f_9)$ は、それぞれ、対応する数字である可能性を示しており、値が大きいほど、その数字の確率が高いものと考えます。ただし、この値自身は、$-\\infty$ 〜 $\\infty$ の任意の値をとるので、この値そのものを確率と考えることはできません。これを確率の値に変換するのが、次のSoftmax関数です。\n",
    "\n",
    "　$P_k({\\mathbf x}) = {e^{f_k({\\mathbf x})} / \\sum_{k'=0}^9 e^{f_{k'}({\\mathbf x})} }\\,\\,(k=0,\\cdots,9)$\n",
    "\n",
    "次のように、確率としての条件を満たしていることがわかります。\n",
    "\n",
    "　$0<P_0,\\cdots,P_9<1,\\,\\,P_0 + P_1 + \\cdots +P_0 = 1$\n",
    " \n",
    "この確率を並べたベクトルを ${\\mathbf y} = (P_0,\\cdots,P_9)$ とします。\n",
    "\n",
    "TensorFlowでは、次のように、softmax関数で計算できます。"
   ]
  },
  {
   "cell_type": "code",
   "execution_count": 8,
   "metadata": {
    "collapsed": false
   },
   "outputs": [],
   "source": [
    "y = tf.nn.softmax(f)"
   ]
  },
  {
   "cell_type": "markdown",
   "metadata": {},
   "source": [
    "### 最尤推定法によるモデルの最適化"
   ]
  },
  {
   "cell_type": "markdown",
   "metadata": {},
   "source": [
    "続いて、正解ラベルを用いてパラメーターを最適化するための指標を定義します。ここでは、最尤推定法の考え方に従います。"
   ]
  },
  {
   "cell_type": "markdown",
   "metadata": {},
   "source": [
    "まず、先ほど計算した確率でトレーニングデータを予測したと考えます。この時、$n$ 番目のデータ ${\\mathbf x}_n$（正解は $r$）に対して正解を与える確率は $P_r$ になります。これは、正解ラベル ${\\mathbf t}_n = (0,\\cdots,1,\\cdots,0)$ を用いると、次のように書けます。\n",
    "\n",
    "　$P_r = {e^{f_r({\\mathbf x}_n)} / \\sum_{k'=0}^9 e^{f_{k'}({\\mathbf x}_n)}}$\n",
    "$ =\\prod_{k=0}^9 \\left\\{ e^{f_k({\\mathbf x}_n)} / \\sum_{k'=0}^9 e^{f_{k'} ({\\mathbf x}_n)}\\right\\}  ^{t_{nk}}$\n",
    "\n",
    "ここで、$t_{nk}$ は正解ラベル ${\\mathbf t}_n$ の $k$ 番目の成分を表します。\n",
    "\n",
    "したがって、すべてのトレーニングセットに正解する確率は、次式になります。\n",
    "\n",
    "　$P = \\prod_{n=1}^N\\prod_{k=0}^9 \\left\\{e^{f_k({\\mathbf x_n})} / \\sum_{k'=0}^9 e^{f_{k'}({\\mathbf x_n})}\\right\\}^{t_{nk}} = \\prod_{n=1}^N\\prod_{k=0}^9 y_{nk}^{t_{nk}}$\n",
    " \n",
    "ここで、\n",
    "\n",
    "　$y_{nk} = e^{f_k({\\mathbf x_n})} / \\sum_{k'=0}^9 e^{f_{k'}({\\mathbf x_n})}$\n",
    " \n",
    "は、$n$ 番目のデータに対する確率ベクトル ${\\mathbf y}_n = (P_0({\\mathbf x}_n),\\cdots,P_9({\\mathbf x}_n))$ の $k$ 番目の成分になっています。"
   ]
  },
  {
   "cell_type": "markdown",
   "metadata": {},
   "source": [
    "最尤推定法では、この「すべてのトレーニングセットに正解する確率 $P$」を最大化するように、パラメーターを調整していきます。TensorFlowに最適化の計算を行わせる場合は、内部的な計算を簡単にするために、「$P$ の対数の符号違い」（ロス関数）を与えて、これを最小にするパラメーターを探していきます。\n",
    "\n",
    "今の場合、ロス関数は次のようになります。\n",
    "\n",
    "　${\\rm Loss} = -\\log P = -\\sum_{n=1}^N\\sum_{k=0}^9 t_{nk}\\log y_{nk}$\n",
    " \n",
    "これは、統計学の用語で、「クロスエントロピー」と呼ばれる値に一致しています。"
   ]
  },
  {
   "cell_type": "markdown",
   "metadata": {},
   "source": [
    "クロスエントロピーをTensorFlowのコードで記述すると、次のようになります。y_ は、正解ラベル ${\\mathbf t}$ を保存するplaceholderで、reduce_sumは、複数のベクトル（行列）について、すべての成分を足し合わせる関数です。"
   ]
  },
  {
   "cell_type": "code",
   "execution_count": 9,
   "metadata": {
    "collapsed": true
   },
   "outputs": [],
   "source": [
    "y_ = tf.placeholder(tf.float32, [None, 10])\n",
    "cross_entropy = -tf.reduce_sum(y_ * tf.log(y))"
   ]
  },
  {
   "cell_type": "markdown",
   "metadata": {},
   "source": [
    "この値を最小化するように、勾配降下法GradientDescentOptimizerでパラメーターを調整していきます。"
   ]
  },
  {
   "cell_type": "code",
   "execution_count": 10,
   "metadata": {
    "collapsed": true
   },
   "outputs": [],
   "source": [
    "train_step = tf.train.GradientDescentOptimizer(0.01).minimize(cross_entropy)"
   ]
  },
  {
   "cell_type": "markdown",
   "metadata": {},
   "source": [
    "### トレーニングの実施"
   ]
  },
  {
   "cell_type": "markdown",
   "metadata": {},
   "source": [
    "それでは、TensorFlowを用いて、実際にパラメーターの最適化を実施します。"
   ]
  },
  {
   "cell_type": "markdown",
   "metadata": {},
   "source": [
    "はじめに、トレーニングセッションのインスタンスを生成して、パラメーター（Variable）を初期化します。"
   ]
  },
  {
   "cell_type": "code",
   "execution_count": 11,
   "metadata": {
    "collapsed": false
   },
   "outputs": [],
   "source": [
    "sess = tf.InteractiveSession()\n",
    "tf.initialize_all_variables().run()"
   ]
  },
  {
   "cell_type": "markdown",
   "metadata": {},
   "source": [
    "トレーニングセットから100個づつデータを取り出して、バッチトレーニングを1000回実施します。Xeon 16コアの環境で、約5秒間でトレーニングが完了します。"
   ]
  },
  {
   "cell_type": "code",
   "execution_count": 12,
   "metadata": {
    "collapsed": false
   },
   "outputs": [
    {
     "name": "stdout",
     "output_type": "stream",
     "text": [
      "CPU times: user 6.03 s, sys: 4.58 s, total: 10.6 s\n",
      "Wall time: 4.33 s\n"
     ]
    }
   ],
   "source": [
    "%%time\n",
    "for i in range(1000):\n",
    "  batch_xs, batch_ys = mnist.train.next_batch(100)\n",
    "  train_step.run({x: batch_xs, y_: batch_ys})"
   ]
  },
  {
   "cell_type": "markdown",
   "metadata": {},
   "source": [
    "トレーニング結果を用いて、テストセットに対する予測の正解率がどの程度になるかを確認します。\n",
    "\n",
    "予測確率 ${\\mathbf y}=(P_0,\\cdots,P_9)$ において、確率が最大になるものを判別結果として採用します。この場合、${\\mathbf y}$ と正解ラベル ${\\mathbf t}$ について、それぞれの最大値を与える成分が一致すれば正解です。\n",
    "\n",
    "次は、テストセットの全データについて、正解／不正解を 1, 0 の数値で表したリストを作成します。evelメソッドは、引数で指定された値をplaceholderに入力して、計算結果を返します。"
   ]
  },
  {
   "cell_type": "code",
   "execution_count": 13,
   "metadata": {
    "collapsed": false
   },
   "outputs": [
    {
     "data": {
      "text/plain": [
       "array([ 1.,  1.,  1., ...,  1.,  1.,  1.], dtype=float32)"
      ]
     },
     "execution_count": 13,
     "metadata": {},
     "output_type": "execute_result"
    }
   ],
   "source": [
    "correct_prediction = tf.equal(tf.argmax(y, 1), tf.argmax(y_, 1))\n",
    "iscorrect = tf.cast(correct_prediction, tf.float32)\n",
    "result = iscorrect.eval({x: mnist.test.images, y_: mnist.test.labels})\n",
    "result"
   ]
  },
  {
   "cell_type": "markdown",
   "metadata": {},
   "source": [
    "これから正解率を計算すると、次のようになります。約90%の正解率が達成できました。"
   ]
  },
  {
   "cell_type": "code",
   "execution_count": 14,
   "metadata": {
    "collapsed": false
   },
   "outputs": [
    {
     "data": {
      "text/plain": [
       "0.91390002"
      ]
     },
     "execution_count": 14,
     "metadata": {},
     "output_type": "execute_result"
    }
   ],
   "source": [
    "np.mean(result)"
   ]
  },
  {
   "cell_type": "markdown",
   "metadata": {},
   "source": [
    "### トレーニング結果の確認"
   ]
  },
  {
   "cell_type": "markdown",
   "metadata": {},
   "source": [
    "残念がら不正解だったデータは、どのようなものか確認してみましょう。\n",
    "\n",
    "準備として、予測 prediction と正解 actual をリストに格納しておきます。"
   ]
  },
  {
   "cell_type": "code",
   "execution_count": 15,
   "metadata": {
    "collapsed": false
   },
   "outputs": [],
   "source": [
    "prediction = tf.argmax(y, 1).eval({x: mnist.test.images, y_: mnist.test.labels})\n",
    "actual = [np.argmax(label) for label in mnist.test.labels]"
   ]
  },
  {
   "cell_type": "markdown",
   "metadata": {},
   "source": [
    "予測と正解が一致しないデータのインデックスを集めて、先頭から15個を画像表示してみます。画像の上のラベルは「予測／正解」を示します。"
   ]
  },
  {
   "cell_type": "code",
   "execution_count": 16,
   "metadata": {
    "collapsed": false
   },
   "outputs": [
    {
     "data": {
      "image/png": "[encoded data removed]",
      "text/plain": [
       "<matplotlib.figure.Figure at 0x67491d0>"
      ]
     },
     "metadata": {},
     "output_type": "display_data"
    }
   ],
   "source": [
    "incorrect = [i for i, (x, y) in enumerate(zip(prediction, actual)) if x != y]\n",
    "\n",
    "fig = plt.figure()\n",
    "for i, j in enumerate(incorrect[0:15]):\n",
    "    subplot = fig.add_subplot(3, 5, i+1)\n",
    "    subplot.set_xticks([])\n",
    "    subplot.set_yticks([])\n",
    "    subplot.set_title('%d / %d' % (prediction[j], actual[j]))\n",
    "    subplot.imshow(mnist.test.images[j].reshape(28,28), vmax=1, vmin=0,\n",
    "                   cmap=plt.cm.gray_r, interpolation='nearest')"
   ]
  },
  {
   "cell_type": "markdown",
   "metadata": {},
   "source": [
    "今回用意したモデルは、図形としての類似性に基づいて判定しているため、極端に歪んだ画像は正しく判定できていないことがわかります。判別精度を向上するには、単なる図形としての類似性ではなく、「数字としての類似性」を表す特徴を抽出する必要があります。"
   ]
  }
 ],
 "metadata": {
  "kernelspec": {
   "display_name": "Python 2",
   "language": "python",
   "name": "python2"
  },
  "language_info": {
   "codemirror_mode": {
    "name": "ipython",
    "version": 2
   },
   "file_extension": ".py",
   "mimetype": "text/x-python",
   "name": "python",
   "nbconvert_exporter": "python",
   "pygments_lexer": "ipython2",
   "version": "2.7.5"
  }
 },
 "nbformat": 4,
 "nbformat_minor": 0
}
