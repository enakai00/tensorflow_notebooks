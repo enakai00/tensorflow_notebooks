{
 "cells": [
  {
   "cell_type": "markdown",
   "metadata": {},
   "source": [
    "## ロジスティック回帰による二項分類器の作成"
   ]
  },
  {
   "cell_type": "markdown",
   "metadata": {},
   "source": [
    "ここでは、TensorFlowを用いて、ロジスティック回帰による二項分類器を実装していきます。\n",
    "\n",
    "理論的な背景については、下記のBlog記事を参照してください。\n",
    "\n",
    "・[TensorFlow Tutorialの数学的背景 − MNIST For ML Beginners（その1）](http://enakai00.hatenablog.com/entry/2016/02/14/153904)"
   ]
  },
  {
   "cell_type": "markdown",
   "metadata": {},
   "source": [
    "### モジュールのインポート"
   ]
  },
  {
   "cell_type": "markdown",
   "metadata": {},
   "source": [
    "はじめに、必要なモジュールをインポートします。"
   ]
  },
  {
   "cell_type": "code",
   "execution_count": 1,
   "metadata": {
    "collapsed": false
   },
   "outputs": [],
   "source": [
    "%matplotlib inline\n",
    "from __future__ import absolute_import\n",
    "from __future__ import division\n",
    "from __future__ import print_function\n",
    "import tensorflow as tf\n",
    "import numpy as np\n",
    "import matplotlib.pyplot as plt\n",
    "from numpy.random import rand, multivariate_normal"
   ]
  },
  {
   "cell_type": "markdown",
   "metadata": {},
   "source": [
    "### データセットの用意"
   ]
  },
  {
   "cell_type": "markdown",
   "metadata": {},
   "source": [
    "続いて、トレーニングセットとテストセットのデータを用意するクラス Dataset を作成します。"
   ]
  },
  {
   "cell_type": "code",
   "execution_count": 2,
   "metadata": {
    "collapsed": false
   },
   "outputs": [],
   "source": [
    "class Dataset():\n",
    "    def __init__(self, data1=(60, [13,10], 40), data2=(40, [0,-3],40)):\n",
    "        n1, mu1, var1 = data1\n",
    "        n2, mu2, var2 = data2\n",
    "        data1 = multivariate_normal(mu1,np.eye(2)*var1,n1)\n",
    "        data2 = multivariate_normal(mu2,np.eye(2)*var2,n2)\n",
    "        data = np.r_[np.c_[data1,np.ones(n1)], np.c_[data2,np.zeros(n2)]]\n",
    "        np.random.shuffle(data)\n",
    "\n",
    "        num_test = int((n1+n2)*0.2)\n",
    "        self.test_data, self.test_label = np.hsplit(data[0:num_test],[2])\n",
    "        self.train_data, self.train_label = np.hsplit(data[num_test:],[2])\n",
    "        self.index = 0\n",
    "    \n",
    "    def next_batch(self, n):\n",
    "        data, label = np.empty(shape=(0, 2)), np.empty(shape=(0, 1))\n",
    "        while (n>0):\n",
    "            if n > len(self.train_data) - self.index:\n",
    "                take = len(self.train_data) - self.index\n",
    "            else:\n",
    "                take = n\n",
    "            data = np.vstack((data, self.train_data[self.index:self.index+take]))\n",
    "            label = np.vstack((label, self.train_label[self.index:self.index+take]))\n",
    "            self.index += take\n",
    "            if self.index >= len(self.train_data):\n",
    "                self.index = 0\n",
    "            n -= take\n",
    "        return np.array(data), np.array(label)"
   ]
  },
  {
   "cell_type": "markdown",
   "metadata": {},
   "source": [
    "このクラスは、平面上に○と✕のニ種類のデータを乱数で生成します。データは2次元の正規分布に従います。それぞれのデータの「個数、中心座標、分散」をタプルで指定して、インスタンスを生成してください。"
   ]
  },
  {
   "cell_type": "code",
   "execution_count": 3,
   "metadata": {
    "collapsed": false
   },
   "outputs": [],
   "source": [
    "dataset = Dataset(data1=(5, [13,10], 40), data2=(5, [0,-3], 40))"
   ]
  },
  {
   "cell_type": "markdown",
   "metadata": {},
   "source": [
    "この時、生成したデータの20%をテストセットして取り分けておき、残りをトレーニングセットとして使用するようになっています。生成したデータの内容を確認すると次のようになります。ラベル $t$ については、$t=1$ が「○」、$t=0$ が「✕」を表します。"
   ]
  },
  {
   "cell_type": "code",
   "execution_count": 4,
   "metadata": {
    "collapsed": false
   },
   "outputs": [
    {
     "name": "stdout",
     "output_type": "stream",
     "text": [
      "Training data \n",
      " [[ 10.72231727  16.06194879]\n",
      " [ 12.54647226  12.83586698]\n",
      " [-10.69630037  -6.49066854]\n",
      " [  2.13708434  12.47455566]\n",
      " [ -6.15146539 -11.7745148 ]\n",
      " [ 26.3727768   11.52405229]\n",
      " [ -2.44540839  -5.89698468]\n",
      " [ -5.57414147  -0.46480183]]\n",
      "Traininng label \n",
      " [[ 1.]\n",
      " [ 1.]\n",
      " [ 0.]\n",
      " [ 1.]\n",
      " [ 0.]\n",
      " [ 1.]\n",
      " [ 0.]\n",
      " [ 0.]]\n",
      "Test data \n",
      " [[  8.22832884  -1.5765989 ]\n",
      " [  4.8085763   35.21533587]]\n",
      "Test label \n",
      " [[ 0.]\n",
      " [ 1.]]\n"
     ]
    }
   ],
   "source": [
    "print (\"Training data \\n\", dataset.train_data)    # トレーニング用データ（座標）\n",
    "print (\"Traininng label \\n\", dataset.train_label) # トレーニング用データ（ラベル）\n",
    "print (\"Test data \\n\", dataset.test_data)         # テスト用データ（座標）\n",
    "print (\"Test label \\n\", dataset.test_label)       # テスト用データ（ラベル）"
   ]
  },
  {
   "cell_type": "markdown",
   "metadata": {},
   "source": [
    "実際にトレーニング（パラメーターの最適化）を行う際は、テストデータの一部を順番に取り出して最適化を行うという処理を繰り返します。これを「バッチトレーニング」と言います。next_batchメソッドで指定数のトレーニング用データを順番に取り出すことができます。次の例を見ると、末尾に達すると、再び、頭からデータを取り出していることがわかります。"
   ]
  },
  {
   "cell_type": "code",
   "execution_count": 5,
   "metadata": {
    "collapsed": false
   },
   "outputs": [
    {
     "name": "stdout",
     "output_type": "stream",
     "text": [
      "[[ 10.72231727  16.06194879]\n",
      " [ 12.54647226  12.83586698]\n",
      " [-10.69630037  -6.49066854]\n",
      " [  2.13708434  12.47455566]\n",
      " [ -6.15146539 -11.7745148 ]]\n",
      "[[ 1.]\n",
      " [ 1.]\n",
      " [ 0.]\n",
      " [ 1.]\n",
      " [ 0.]]\n",
      "[[ 26.3727768   11.52405229]\n",
      " [ -2.44540839  -5.89698468]\n",
      " [ -5.57414147  -0.46480183]\n",
      " [ 10.72231727  16.06194879]\n",
      " [ 12.54647226  12.83586698]]\n",
      "[[ 1.]\n",
      " [ 0.]\n",
      " [ 0.]\n",
      " [ 1.]\n",
      " [ 1.]]\n"
     ]
    }
   ],
   "source": [
    "for i in range(2):\n",
    "    data, label = dataset.next_batch(5)\n",
    "    print (data)\n",
    "    print (label)"
   ]
  },
  {
   "cell_type": "markdown",
   "metadata": {},
   "source": [
    "最後に、データを可視化する関数を用意しておきます。"
   ]
  },
  {
   "cell_type": "code",
   "execution_count": 6,
   "metadata": {
    "collapsed": true
   },
   "outputs": [],
   "source": [
    "def plot_data(subplot, data, label, color):\n",
    "    data0_x, data0_y, data1_x, data1_y = [], [], [], []\n",
    "    for i in range(len(data)):\n",
    "        if label[i][0] == 0:\n",
    "            data0_x.append(data[i][0])\n",
    "            data0_y.append(data[i][1])\n",
    "        else:\n",
    "            data1_x.append(data[i][0])\n",
    "            data1_y.append(data[i][1])\n",
    "    subplot.scatter(data0_x, data0_y, marker='x', color=color)\n",
    "    subplot.scatter(data1_x, data1_y, marker='o', color=color)"
   ]
  },
  {
   "cell_type": "markdown",
   "metadata": {
    "collapsed": true
   },
   "source": [
    "改めて、100個のデータを生成して、可視化すると次のようになります。青色がトレーニングセットで、赤色がテストセットになります。"
   ]
  },
  {
   "cell_type": "code",
   "execution_count": 7,
   "metadata": {
    "collapsed": false,
    "scrolled": true
   },
   "outputs": [
    {
     "data": {
      "image/png": "[encoded data removed]",
      "text/plain": [
       "<matplotlib.figure.Figure at 0x4d8efd0>"
      ]
     },
     "metadata": {},
     "output_type": "display_data"
    }
   ],
   "source": [
    "dataset=Dataset(data1=(60, [13,10], 40), data2=(40, [0,-3],40))\n",
    "\n",
    "fig = plt.figure()\n",
    "subplot = fig.add_subplot(1,1,1)\n",
    "plot_data(subplot, dataset.train_data, dataset.train_label, 'blue')\n",
    "plot_data(subplot, dataset.test_data, dataset.test_label, 'red')"
   ]
  },
  {
   "cell_type": "markdown",
   "metadata": {},
   "source": [
    "### モデルの定義"
   ]
  },
  {
   "cell_type": "markdown",
   "metadata": {
    "collapsed": false
   },
   "source": [
    "次は、トレーニング用データの座標 ${\\mathbf x}=(x_0, x_1)$ から、その点が「○」である確率 $y$ を計算する部分のコードです。次の関数を定義しています。\n",
    "\n",
    "　$y = \\sigma({\\mathbf x}{\\mathbf W}+b \\times c_0)$\n",
    "\n",
    "ここでは、$\n",
    "{\\mathbf W}=\\begin{pmatrix}\n",
    "w_0 \\\\\n",
    "w_1\n",
    "\\end{pmatrix}\n",
    "$ と $b$ がトレーニングで最適化するべきパラメーターになります。\n",
    "\n",
    "なお、$c_0$ はトレーニング用データの座標の平均値で、これにより、バイアス項（定数項）のオーダーを座標値と合わせています。これは、最適化の処理を高速化するためのテクニックです。"
   ]
  },
  {
   "cell_type": "code",
   "execution_count": 8,
   "metadata": {
    "collapsed": false
   },
   "outputs": [],
   "source": [
    "# Create the model\n",
    "x = tf.placeholder(tf.float32, [None, 2])\n",
    "w = tf.Variable(tf.zeros([2, 1]))\n",
    "b = tf.Variable(tf.zeros([1]))\n",
    "mult = dataset.train_data.flatten().mean() # データの平均値のオーダーにバイアス項を調整\n",
    "y = tf.sigmoid(tf.matmul(x, w) + b*mult)"
   ]
  },
  {
   "cell_type": "markdown",
   "metadata": {},
   "source": [
    "TensorFlowでは、トレーニング用のデータを入れる箱をplaceholderクラスで用意して、最適化するべきパラメーターをVariableクラスで用意します。上記のコードでは、x は、1回のバッチに含まれる2次元ベクトル $(x_0, x_1)$ をまとめて保存するために、これらを縦に並べた「None✕2サイズ」の行列として定義しています。（Noneは、要素数が決まっていないという意味です。）\n",
    "\n",
    "また、パラメーター w と b は、それぞれ、2×1サイズ, 1✕1サイズの行列（多次元配列）として定義している点に注意してください。TensorFlowで扱うパラメーターは、すべて多次元配列として定義する必要があります。"
   ]
  },
  {
   "cell_type": "markdown",
   "metadata": {},
   "source": [
    "続いて、最適化の指標となるロス関数（対数尤度関数の符号違い）を次式で定義します。\n",
    "\n",
    "　${\\rm Loss} = - \\log P = -\\sum_n \\left\\{t_n\\log y_n + (1-t_n)\\log (1-y_n)\\right\\}$\n",
    " \n",
    "$y_n$ は、$n$ 番目のデータについて計算された「○」である確率で、$t_n$ は正解のラベルです。\n",
    "\n",
    "下記のコードでは、y_ が正解ラベルを表します。1回のバッチに含まれるデータをまとめて保存するために、「None✕1サイズ」の行列となります。"
   ]
  },
  {
   "cell_type": "code",
   "execution_count": 9,
   "metadata": {
    "collapsed": false
   },
   "outputs": [],
   "source": [
    "# Define loss\n",
    "y_ = tf.placeholder(tf.float32, [None, 1])\n",
    "loss = -tf.reduce_sum(y_*tf.log(y) + (1-y_)*tf.log(1-y))"
   ]
  },
  {
   "cell_type": "markdown",
   "metadata": {},
   "source": [
    "そして、パラメーターを最適化するアルゴリズムとして、勾配降下法を指定します。これには、TensorFlowが事前に用意している関数GradientDescentOptimizerを用います。先ほどのロス関数lossを最小化するという方針を指定します。"
   ]
  },
  {
   "cell_type": "code",
   "execution_count": 10,
   "metadata": {
    "collapsed": true
   },
   "outputs": [],
   "source": [
    "train_step = tf.train.GradientDescentOptimizer(0.001).minimize(loss)"
   ]
  },
  {
   "cell_type": "markdown",
   "metadata": {},
   "source": [
    "引数 0.001 は、パラメーターの調整をどの程度の大きさで実施するかを指定するもので、小さすぎると最適化に時間がかかり、大きすぎると新の最適値のまわりでの微調整ができなくなるというトレードオフがあります。この値は、何度かトレーニングを繰り返してチューニングする必要があります。"
   ]
  },
  {
   "cell_type": "markdown",
   "metadata": {},
   "source": [
    "最後に補助関数として、テストセットに対する正解率を計算する関数を定義しておきます。確率 y が 0.5 より大きいか小さいかで、○か✕かを判定するものとして、これを実際のラベル値と比較しています。"
   ]
  },
  {
   "cell_type": "code",
   "execution_count": 11,
   "metadata": {
    "collapsed": true
   },
   "outputs": [],
   "source": [
    "correct_prediction = tf.equal(tf.sign(y-0.5), tf.sign(y_-0.5))\n",
    "accuracy = tf.reduce_mean(tf.cast(correct_prediction, tf.float32))"
   ]
  },
  {
   "cell_type": "markdown",
   "metadata": {},
   "source": [
    "### トレーニングの実施"
   ]
  },
  {
   "cell_type": "markdown",
   "metadata": {},
   "source": [
    "それでは、実際にトレーニングを実施して、パラメーターの最適化を行います。\n",
    "\n",
    "はじめに、トレーニングを実行する「トレーニングセッション」のインスタンスを生成して、パラメーター（Variableインスタンス）を初期化しておきます。"
   ]
  },
  {
   "cell_type": "code",
   "execution_count": 12,
   "metadata": {
    "collapsed": false
   },
   "outputs": [],
   "source": [
    "sess = tf.InteractiveSession()\n",
    "tf.initialize_all_variables().run()"
   ]
  },
  {
   "cell_type": "markdown",
   "metadata": {},
   "source": [
    "そして、実際にトレーニングを実施するコードが下記になります。ここでは、トレーニングセットから10個のデータを取り出して、バッチでトレーニングを行う処理を100回繰り返しています。"
   ]
  },
  {
   "cell_type": "code",
   "execution_count": 13,
   "metadata": {
    "collapsed": false
   },
   "outputs": [
    {
     "name": "stdout",
     "output_type": "stream",
     "text": [
      "Loss and Accuracy at step 0: 10.6814, 0.8\n",
      "Loss and Accuracy at step 10: 6.84003, 0.8\n",
      "Loss and Accuracy at step 20: 6.33738, 0.85\n",
      "Loss and Accuracy at step 30: 5.96427, 0.9\n",
      "Loss and Accuracy at step 40: 5.73125, 0.9\n",
      "Loss and Accuracy at step 50: 5.42211, 0.9\n",
      "Loss and Accuracy at step 60: 5.25814, 0.9\n",
      "Loss and Accuracy at step 70: 5.08392, 0.9\n",
      "Loss and Accuracy at step 80: 4.98132, 0.9\n",
      "Loss and Accuracy at step 90: 4.82485, 0.9\n"
     ]
    }
   ],
   "source": [
    "for i in range(100):\n",
    "    batch_xs, batch_ys = dataset.next_batch(10)\n",
    "    feed = {x: batch_xs, y_: batch_ys}\n",
    "    sess.run(train_step, feed_dict=feed)\n",
    "    if i % 10 == 0:\n",
    "        feed = {x: dataset.test_data, y_: dataset.test_label}\n",
    "        lp, acc = sess.run([loss, accuracy], feed_dict=feed)\n",
    "        print('Loss and Accuracy at step %s: %s, %s' % (i, lp, acc))"
   ]
  },
  {
   "cell_type": "markdown",
   "metadata": {},
   "source": [
    "placeholderに代入する値を変数feed_dictに指定して、トレーニングセッションのrunメソッドを実行すると、パラメーター（Variableインスタンス）が自動的に修正されます。また、10回のバッチごとに、その時点でのロス関数の値とテストセットに対する正解率を表示しています。\n",
    "\n",
    "実行結果を見ると、バッチを繰り返すことで、ロス関数の値が小さくなっていくことがわかります。"
   ]
  },
  {
   "cell_type": "markdown",
   "metadata": {},
   "source": [
    "最後に、実行結果をグラフに可視化しておきます。下記は、最適化されたパラメーターによる境界線を表示する関数です。\n",
    "\n",
    "Variableインスタンスは、evalメソッドで値を取り出すことができますが、多次元配列として値が得られるので、そこから成分指定で実際の値を取り出す必要があります。"
   ]
  },
  {
   "cell_type": "code",
   "execution_count": 14,
   "metadata": {
    "collapsed": false
   },
   "outputs": [],
   "source": [
    "def plot_result(w,b, mult):\n",
    "    weight, bias = w.eval(), b.eval()\n",
    "    xs, ys = np.hsplit(dataset.train_data,[1])\n",
    "    wx, wy, b = weight[0][0], weight[1][0], bias[0]\n",
    "    linex = np.arange(xs.min()-5, xs.max()+5)\n",
    "    liney = - linex * wx/wy - b*mult/wy\n",
    "    subplot.plot(linex, liney, color='red')"
   ]
  },
  {
   "cell_type": "markdown",
   "metadata": {},
   "source": [
    "先に定義したデータの可視化関数とあわせて、全体を表示すると次のようになります。"
   ]
  },
  {
   "cell_type": "code",
   "execution_count": 15,
   "metadata": {
    "collapsed": false
   },
   "outputs": [
    {
     "data": {
      "image/png": "[encoded data removed]",
      "text/plain": [
       "<matplotlib.figure.Figure at 0x5242e10>"
      ]
     },
     "metadata": {},
     "output_type": "display_data"
    }
   ],
   "source": [
    "fig = plt.figure()\n",
    "subplot = fig.add_subplot(1,1,1)\n",
    "plot_data(subplot, dataset.train_data, dataset.train_label, 'blue')\n",
    "plot_data(subplot, dataset.test_data, dataset.test_label, 'red')\n",
    "plot_result(w, b, mult)"
   ]
  }
 ],
 "metadata": {
  "kernelspec": {
   "display_name": "Python 2",
   "language": "python",
   "name": "python2"
  },
  "language_info": {
   "codemirror_mode": {
    "name": "ipython",
    "version": 2
   },
   "file_extension": ".py",
   "mimetype": "text/x-python",
   "name": "python",
   "nbconvert_exporter": "python",
   "pygments_lexer": "ipython2",
   "version": "2.7.5"
  }
 },
 "nbformat": 4,
 "nbformat_minor": 0
}
